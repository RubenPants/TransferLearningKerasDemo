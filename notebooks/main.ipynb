{
 "cells": [
  {
   "cell_type": "code",
   "execution_count": 1,
   "metadata": {},
   "outputs": [],
   "source": [
    "# Set path to root and hide warnings\n",
    "from init import init_notebook\n",
    "init_notebook()\n",
    "\n",
    "# Other imports\n",
    "import config\n",
    "import numpy as np\n",
    "\n",
    "from myutils import load_json, store_json, load_pickle, store_pickle, print_all_stats\n",
    "from tqdm import tqdm"
   ]
  },
  {
   "cell_type": "markdown",
   "metadata": {},
   "source": [
    "# MNIST - Transfer Learning Demo\n",
    "\n",
    "In this tutorial, I will go step by step in the 'Transfer Learning' process. Briefly, the steps are:\n",
    "1. Create a new network suitable for the first problem\n",
    "2. Train the network on the labeled dataset for the first problem\n",
    "3. Freeze the first network and exchange the bottom layer of `network_1` with that of `network_2` such that the model fits the data\n",
    "4. Train the second network based on manually curated samples"
   ]
  },
  {
   "cell_type": "markdown",
   "metadata": {},
   "source": [
    "## Create the Model\n",
    "\n",
    "We first create `network_1`, which includes the both the shared network as the last categorical layer. The main goal of this first network is to categorize the handwritten digits (input images) into ten different classes, each representing another index (0..9)."
   ]
  },
  {
   "cell_type": "code",
   "execution_count": 2,
   "metadata": {},
   "outputs": [],
   "source": [
    "%%capture\n",
    "\n",
    "from transfer_learner import TransferLearner\n",
    "\n",
    "model = TransferLearner(\n",
    "    name='mnist',\n",
    "    data_path='data/mnist/'\n",
    ")"
   ]
  },
  {
   "cell_type": "code",
   "execution_count": 3,
   "metadata": {},
   "outputs": [
    {
     "name": "stdout",
     "output_type": "stream",
     "text": [
      "_________________________________________________________________\n",
      "Layer (type)                 Output Shape              Param #   \n",
      "=================================================================\n",
      "input (InputLayer)           (None, None, None, 3)     0         \n",
      "_________________________________________________________________\n",
      "conv1_layer1 (Conv2D)        (None, None, None, 16)    448       \n",
      "_________________________________________________________________\n",
      "conv2_layer1 (Conv2D)        (None, None, None, 16)    2320      \n",
      "_________________________________________________________________\n",
      "conv3_layer1 (Conv2D)        (None, None, None, 16)    2320      \n",
      "_________________________________________________________________\n",
      "max_pool (MaxPooling2D)      (None, None, None, 16)    0         \n",
      "_________________________________________________________________\n",
      "conv1_layer2 (Conv2D)        (None, None, None, 32)    4640      \n",
      "_________________________________________________________________\n",
      "conv2_layer2 (Conv2D)        (None, None, None, 32)    9248      \n",
      "_________________________________________________________________\n",
      "conv3_layer2 (Conv2D)        (None, None, None, 32)    9248      \n",
      "_________________________________________________________________\n",
      "global_max_pool (GlobalMaxPo (None, 32)                0         \n",
      "_________________________________________________________________\n",
      "dense (Dense)                (None, 32)                1056      \n",
      "_________________________________________________________________\n",
      "output (Dense)               (None, 10)                330       \n",
      "=================================================================\n",
      "Total params: 29,610\n",
      "Trainable params: 29,610\n",
      "Non-trainable params: 0\n",
      "_________________________________________________________________\n"
     ]
    }
   ],
   "source": [
    "model.network_1.summary()"
   ]
  },
  {
   "cell_type": "code",
   "execution_count": 4,
   "metadata": {},
   "outputs": [
    {
     "name": "stdout",
     "output_type": "stream",
     "text": [
      "transfer_learner_mnist_v00 - Parameters\n",
      "\tcurrent_epoch : 0\n",
      "\t    is_frozen : False\n",
      "\t    network_1 : <keras.engine.training.Model object at 0x000001E500107588>\n",
      "\t    network_2 : None\n",
      "\t       shared : <keras.engine.training.Model object at 0x000001E5000E1710>\n",
      "\n"
     ]
    }
   ],
   "source": [
    "model.print_stats()"
   ]
  },
  {
   "cell_type": "markdown",
   "metadata": {},
   "source": [
    "## Problem 1 - classify images\n",
    "\n",
    "In a first stage, we will train `network_1` such that the CNNs are tuned well to work with the handwritten digits. For our problem, 5 epochs of training will be sufficient, as can be seen by the training accuracy."
   ]
  },
  {
   "cell_type": "code",
   "execution_count": 5,
   "metadata": {},
   "outputs": [
    {
     "name": "stderr",
     "output_type": "stream",
     "text": [
      "W0919 00:29:20.425051  4680 deprecation.py:323] From c:\\users\\ruben\\appdata\\local\\programs\\python\\python36\\lib\\site-packages\\tensorflow\\python\\ops\\math_grad.py:1250: add_dispatch_support.<locals>.wrapper (from tensorflow.python.ops.array_ops) is deprecated and will be removed in a future version.\n",
      "Instructions for updating:\n",
      "Use tf.where in 2.0, which has the same broadcast rule as np.where\n"
     ]
    },
    {
     "data": {
      "application/vnd.jupyter.widget-view+json": {
       "model_id": "dff19ef897ca49f79f59a97a45587983",
       "version_major": 2,
       "version_minor": 0
      },
      "text/plain": [
       "HBox(children=(IntProgress(value=0, description='Training', max=5, style=ProgressStyle(description_width='init…"
      ]
     },
     "metadata": {},
     "output_type": "display_data"
    },
    {
     "data": {
      "application/vnd.jupyter.widget-view+json": {
       "model_id": "",
       "version_major": 2,
       "version_minor": 0
      },
      "text/plain": [
       "HBox(children=(IntProgress(value=0, description='Epoch 0', max=70000, style=ProgressStyle(description_width='i…"
      ]
     },
     "metadata": {},
     "output_type": "display_data"
    },
    {
     "data": {
      "application/vnd.jupyter.widget-view+json": {
       "model_id": "",
       "version_major": 2,
       "version_minor": 0
      },
      "text/plain": [
       "HBox(children=(IntProgress(value=0, description='Epoch 1', max=70000, style=ProgressStyle(description_width='i…"
      ]
     },
     "metadata": {},
     "output_type": "display_data"
    },
    {
     "data": {
      "application/vnd.jupyter.widget-view+json": {
       "model_id": "",
       "version_major": 2,
       "version_minor": 0
      },
      "text/plain": [
       "HBox(children=(IntProgress(value=0, description='Epoch 2', max=70000, style=ProgressStyle(description_width='i…"
      ]
     },
     "metadata": {},
     "output_type": "display_data"
    },
    {
     "data": {
      "application/vnd.jupyter.widget-view+json": {
       "model_id": "",
       "version_major": 2,
       "version_minor": 0
      },
      "text/plain": [
       "HBox(children=(IntProgress(value=0, description='Epoch 3', max=70000, style=ProgressStyle(description_width='i…"
      ]
     },
     "metadata": {},
     "output_type": "display_data"
    },
    {
     "data": {
      "application/vnd.jupyter.widget-view+json": {
       "model_id": "",
       "version_major": 2,
       "version_minor": 0
      },
      "text/plain": [
       "HBox(children=(IntProgress(value=0, description='Epoch 4', max=70000, style=ProgressStyle(description_width='i…"
      ]
     },
     "metadata": {},
     "output_type": "display_data"
    },
    {
     "name": "stdout",
     "output_type": "stream",
     "text": [
      "\n",
      "Saving the model... done, 2.79 seconds.\n"
     ]
    }
   ],
   "source": [
    "# Train the model\n",
    "model.train(epochs=5)"
   ]
  },
  {
   "cell_type": "markdown",
   "metadata": {},
   "source": [
    "Evaluation of the final model gives:"
   ]
  },
  {
   "cell_type": "code",
   "execution_count": 6,
   "metadata": {},
   "outputs": [
    {
     "name": "stdout",
     "output_type": "stream",
     "text": [
      "Predicting... done, 6.22 seconds.\n",
      "Accuracy network 1:  0.981\n"
     ]
    }
   ],
   "source": [
    "model.evaluate_1()"
   ]
  },
  {
   "cell_type": "markdown",
   "metadata": {},
   "source": [
    "## Problem 2 - identify odd numbers\n",
    "\n",
    "For the second problem, the problem we're interested in, we want to identify odd numbers. First, to make sure all the trained knowledge from our first network remains as is, we will freeze those layers. This is already incoroprated into the script (see in `transfer_learner.py` the method `create_model_two`). An additional bottom layer which represents the output predictor of the binary classification problem is added as well."
   ]
  },
  {
   "cell_type": "code",
   "execution_count": 7,
   "metadata": {},
   "outputs": [
    {
     "name": "stdout",
     "output_type": "stream",
     "text": [
      "_________________________________________________________________\n",
      "Layer (type)                 Output Shape              Param #   \n",
      "=================================================================\n",
      "input (InputLayer)           (None, None, None, 3)     0         \n",
      "_________________________________________________________________\n",
      "conv1_layer1 (Conv2D)        (None, None, None, 16)    448       \n",
      "_________________________________________________________________\n",
      "conv2_layer1 (Conv2D)        (None, None, None, 16)    2320      \n",
      "_________________________________________________________________\n",
      "conv3_layer1 (Conv2D)        (None, None, None, 16)    2320      \n",
      "_________________________________________________________________\n",
      "max_pool (MaxPooling2D)      (None, None, None, 16)    0         \n",
      "_________________________________________________________________\n",
      "conv1_layer2 (Conv2D)        (None, None, None, 32)    4640      \n",
      "_________________________________________________________________\n",
      "conv2_layer2 (Conv2D)        (None, None, None, 32)    9248      \n",
      "_________________________________________________________________\n",
      "conv3_layer2 (Conv2D)        (None, None, None, 32)    9248      \n",
      "_________________________________________________________________\n",
      "global_max_pool (GlobalMaxPo (None, 32)                0         \n",
      "_________________________________________________________________\n",
      "dense (Dense)                (None, 32)                1056      \n",
      "_________________________________________________________________\n",
      "output (Dense)               (None, 1)                 33        \n",
      "=================================================================\n",
      "Total params: 29,313\n",
      "Trainable params: 33\n",
      "Non-trainable params: 29,280\n",
      "_________________________________________________________________\n"
     ]
    }
   ],
   "source": [
    "model.create_model_two()"
   ]
  },
  {
   "cell_type": "markdown",
   "metadata": {},
   "source": [
    "As can be seen, only the last weights are trainable (\"`Trainable params: 129`\" coincide perfectly with the number of parameters in the last layer, which are 128 connection weights and one bias weight). All the other parameters are frozen and thus non-trainable."
   ]
  },
  {
   "cell_type": "code",
   "execution_count": 8,
   "metadata": {},
   "outputs": [
    {
     "name": "stdout",
     "output_type": "stream",
     "text": [
      "transfer_learner_mnist_v00 - Parameters\n",
      "\tcurrent_epoch : 5\n",
      "\t    is_frozen : True\n",
      "\t    network_1 : <keras.engine.training.Model object at 0x000001E500107588>\n",
      "\t    network_2 : <keras.engine.training.Model object at 0x000001E52700F550>\n",
      "\t       shared : <keras.engine.training.Model object at 0x000001E5000E1710>\n",
      "\n"
     ]
    }
   ],
   "source": [
    "model.print_stats()"
   ]
  },
  {
   "cell_type": "markdown",
   "metadata": {},
   "source": [
    "## Problem 2 - manually train\n",
    "\n",
    "Manually train the second model. This will happen in two phases:\n",
    "1. First initialize the training set with a couple of training samples, a small batch of 32 samples will be manually curated before the model will learn\n",
    "2. After every newly curated sample, the model will re-train. A plot of the sample distribution (number of samples the model predicts that are odd, and the number of samples the model predicts are even) will be given as well. Note that to evaluate the model properly, I've introduced a 'mapping' function, which functions as our evaluation ground truth."
   ]
  },
  {
   "cell_type": "code",
   "execution_count": 9,
   "metadata": {},
   "outputs": [],
   "source": [
    "def mapping(x):\n",
    "    return x % 2"
   ]
  },
  {
   "cell_type": "markdown",
   "metadata": {},
   "source": [
    "### Initialize training\n",
    "\n",
    "Manually curate 32 randomly sampled images."
   ]
  },
  {
   "cell_type": "code",
   "execution_count": null,
   "metadata": {},
   "outputs": [
    {
     "data": {
      "image/png": "[encoded data removed]",
      "text/plain": [
       "<Figure size 576x216 with 2 Axes>"
      ]
     },
     "metadata": {
      "needs_background": "light"
     },
     "output_type": "display_data"
    }
   ],
   "source": [
    "# TODO\n",
    "while True:\n",
    "    model.iterate(train=True, mapping=mapping)"
   ]
  },
  {
   "cell_type": "markdown",
   "metadata": {},
   "source": [
    "### Dynamically train during evaluation\n",
    "\n",
    "Curate one sample at a time, and after each new addition to the training set, the model is re-evaluated."
   ]
  },
  {
   "cell_type": "code",
   "execution_count": null,
   "metadata": {},
   "outputs": [],
   "source": [
    "# TODO"
   ]
  },
  {
   "cell_type": "markdown",
   "metadata": {},
   "source": [
    "## Init Training Set\n",
    "\n",
    "Manually add a small set of samples before the first training epoch starts, this because otherwise the model would drastically overfit (since only one sample would cover only one possible answer, which results in a model that thinks that this answer is always gonna be the right choice). "
   ]
  },
  {
   "cell_type": "code",
   "execution_count": 4,
   "metadata": {},
   "outputs": [
    {
     "data": {
      "image/png": "[encoded data removed]",
      "text/plain": [
       "<Figure size 576x216 with 2 Axes>"
      ]
     },
     "metadata": {
      "needs_background": "light"
     },
     "output_type": "display_data"
    },
    {
     "name": "stdout",
     "output_type": "stream",
     "text": [
      "Is image '6059' odd? [Yes/No] : y\n"
     ]
    },
    {
     "name": "stderr",
     "output_type": "stream",
     "text": [
      "100%|████████████████████████████████████████████████████████████████████████████████████████████████████████████████████████████████████████████████████████████████████████████| 32/32 [04:51<00:00,  4.29s/it]\n"
     ]
    }
   ],
   "source": [
    "for _ in tqdm(range(config.INIT_BATCH)):\n",
    "    model.iterate(train=False)"
   ]
  },
  {
   "cell_type": "markdown",
   "metadata": {},
   "source": [
    "## Evaluate and Train Loop\n",
    "\n",
    "\n",
    "Evaluate the model to get the 'most uncertain sample', which will then be used to manually evaluate and next is added to the training set. The idea is to learn a decent data-distribution only after a relatively few manually curated samples.\n",
    "\n",
    "Note: Newly added training data keeps also occurring in the evaluation data, there is no specific reason for this."
   ]
  },
  {
   "cell_type": "code",
   "execution_count": 7,
   "metadata": {},
   "outputs": [
    {
     "ename": "TypeError",
     "evalue": "iterate() missing 1 required positional argument: 'mapping'",
     "output_type": "error",
     "traceback": [
      "\u001b[1;31m---------------------------------------------------------------------------\u001b[0m",
      "\u001b[1;31mTypeError\u001b[0m                                 Traceback (most recent call last)",
      "\u001b[1;32m<ipython-input-7-b4683d50562c>\u001b[0m in \u001b[0;36m<module>\u001b[1;34m\u001b[0m\n\u001b[0;32m      1\u001b[0m \u001b[1;32mwhile\u001b[0m \u001b[1;32mTrue\u001b[0m\u001b[1;33m:\u001b[0m\u001b[1;33m\u001b[0m\u001b[1;33m\u001b[0m\u001b[0m\n\u001b[1;32m----> 2\u001b[1;33m     \u001b[0mmodel\u001b[0m\u001b[1;33m.\u001b[0m\u001b[0miterate\u001b[0m\u001b[1;33m(\u001b[0m\u001b[1;33m)\u001b[0m\u001b[1;33m\u001b[0m\u001b[1;33m\u001b[0m\u001b[0m\n\u001b[0m",
      "\u001b[1;31mTypeError\u001b[0m: iterate() missing 1 required positional argument: 'mapping'"
     ]
    }
   ],
   "source": [
    "while True:\n",
    "    model.iterate()"
   ]
  },
  {
   "cell_type": "code",
   "execution_count": null,
   "metadata": {},
   "outputs": [],
   "source": []
  }
 ],
 "metadata": {
  "hide_input": false,
  "kernelspec": {
   "display_name": "Python 3",
   "language": "python",
   "name": "python3"
  },
  "language_info": {
   "codemirror_mode": {
    "name": "ipython",
    "version": 3
   },
   "file_extension": ".py",
   "mimetype": "text/x-python",
   "name": "python",
   "nbconvert_exporter": "python",
   "pygments_lexer": "ipython3",
   "version": "3.6.8"
  },
  "toc": {
   "base_numbering": 1,
   "nav_menu": {},
   "number_sections": true,
   "sideBar": true,
   "skip_h1_title": false,
   "title_cell": "Table of Contents",
   "title_sidebar": "Contents",
   "toc_cell": false,
   "toc_position": {},
   "toc_section_display": true,
   "toc_window_display": true
  }
 },
 "nbformat": 4,
 "nbformat_minor": 1
}
