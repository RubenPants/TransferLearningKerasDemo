{
 "cells": [
  {
   "cell_type": "code",
   "execution_count": 1,
   "metadata": {},
   "outputs": [
    {
     "name": "stderr",
     "output_type": "stream",
     "text": [
      "Using TensorFlow backend.\n"
     ]
    }
   ],
   "source": [
    "# Set path to root and hide warnings\n",
    "from setup import init_notebook\n",
    "init_notebook()\n",
    "\n",
    "# Other imports\n",
    "import config\n",
    "import matplotlib.pyplot as plt\n",
    "import numpy as np\n",
    "\n",
    "from keras.models import Model\n",
    "from myutils import load_json, store_json, load_pickle, store_pickle, print_all_stats\n",
    "from tqdm import tqdm\n",
    "\n",
    "# Project specific imports\n",
    "from myutils import create_image"
   ]
  },
  {
   "cell_type": "markdown",
   "metadata": {},
   "source": [
    "# MNIST - Transfer Learning Demo\n",
    "\n",
    "In this tutorial, I will go step by step in the 'Transfer Learning' process. Briefly, the steps are:\n",
    "1. Create a new network suitable for the first problem\n",
    "2. Train the network on the labeled dataset for the first problem\n",
    "3. Freeze the first network and exchange the bottom layer of `network_1` with that of `network_2` such that the model fits the data\n",
    "4. Train the second network based on manually curated samples"
   ]
  },
  {
   "cell_type": "markdown",
   "metadata": {},
   "source": [
    "## Create the Model\n",
    "\n",
    "We first create `network_1`, which includes the both the shared network as the last categorical layer. The main goal of this first network is to categorize the handwritten digits (input images) into ten different classes, each representing another index (0..9)."
   ]
  },
  {
   "cell_type": "code",
   "execution_count": 2,
   "metadata": {},
   "outputs": [],
   "source": [
    "%%capture\n",
    "\n",
    "from transfer_learner import TransferLearner\n",
    "\n",
    "model = TransferLearner(\n",
    "    name='mnist',\n",
    "    data_path='data/mnist/'\n",
    ")"
   ]
  },
  {
   "cell_type": "code",
   "execution_count": 3,
   "metadata": {},
   "outputs": [
    {
     "name": "stdout",
     "output_type": "stream",
     "text": [
      "_________________________________________________________________\n",
      "Layer (type)                 Output Shape              Param #   \n",
      "=================================================================\n",
      "input (InputLayer)           (None, None, None, 3)     0         \n",
      "_________________________________________________________________\n",
      "conv1_layer1 (Conv2D)        (None, None, None, 16)    448       \n",
      "_________________________________________________________________\n",
      "conv2_layer1 (Conv2D)        (None, None, None, 16)    2320      \n",
      "_________________________________________________________________\n",
      "conv3_layer1 (Conv2D)        (None, None, None, 16)    2320      \n",
      "_________________________________________________________________\n",
      "max_pool (MaxPooling2D)      (None, None, None, 16)    0         \n",
      "_________________________________________________________________\n",
      "conv1_layer2 (Conv2D)        (None, None, None, 32)    4640      \n",
      "_________________________________________________________________\n",
      "conv2_layer2 (Conv2D)        (None, None, None, 32)    9248      \n",
      "_________________________________________________________________\n",
      "conv3_layer2 (Conv2D)        (None, None, None, 32)    9248      \n",
      "_________________________________________________________________\n",
      "global_max_pool (GlobalMaxPo (None, 32)                0         \n",
      "_________________________________________________________________\n",
      "dense (Dense)                (None, 128)               4224      \n",
      "_________________________________________________________________\n",
      "out (Dense)                  (None, 10)                1290      \n",
      "=================================================================\n",
      "Total params: 33,738\n",
      "Trainable params: 33,738\n",
      "Non-trainable params: 0\n",
      "_________________________________________________________________\n"
     ]
    }
   ],
   "source": [
    "model.network_1.summary()"
   ]
  },
  {
   "cell_type": "code",
   "execution_count": 4,
   "metadata": {},
   "outputs": [
    {
     "name": "stdout",
     "output_type": "stream",
     "text": [
      "transfer_learner_mnist_v00 - Parameters\n",
      "\tcurrent_epoch : 0\n",
      "\t    is_frozen : False\n",
      "\t    network_1 : <keras.engine.training.Model object at 0x000001D5AB041DD8>\n",
      "\t    network_2 : None\n",
      "\t       shared : <keras.engine.training.Model object at 0x000001D5AB041630>\n",
      "\n"
     ]
    }
   ],
   "source": [
    "model.print_stats()"
   ]
  },
  {
   "cell_type": "markdown",
   "metadata": {},
   "source": [
    "## Problem 1 - classify images\n",
    "\n",
    "In a first stage, we will train `network_1` such that the CNNs are tuned well to work with the handwritten digits. For our problem, 5 epochs of training will be sufficient, as can be seen by the training accuracy.\n",
    "\n",
    "### Train the model"
   ]
  },
  {
   "cell_type": "code",
   "execution_count": 5,
   "metadata": {},
   "outputs": [
    {
     "name": "stderr",
     "output_type": "stream",
     "text": [
      "W0919 22:33:53.199572 19848 deprecation.py:323] From c:\\users\\ruben\\appdata\\local\\programs\\python\\python36\\lib\\site-packages\\tensorflow\\python\\ops\\math_grad.py:1250: add_dispatch_support.<locals>.wrapper (from tensorflow.python.ops.array_ops) is deprecated and will be removed in a future version.\n",
      "Instructions for updating:\n",
      "Use tf.where in 2.0, which has the same broadcast rule as np.where\n"
     ]
    },
    {
     "data": {
      "application/vnd.jupyter.widget-view+json": {
       "model_id": "718506310eba412082602bb80cfee37a",
       "version_major": 2,
       "version_minor": 0
      },
      "text/plain": [
       "HBox(children=(IntProgress(value=0, description='Training', max=5, style=ProgressStyle(description_width='init…"
      ]
     },
     "metadata": {},
     "output_type": "display_data"
    },
    {
     "data": {
      "application/vnd.jupyter.widget-view+json": {
       "model_id": "6944828aae5045289d0009121e6b7fd1",
       "version_major": 2,
       "version_minor": 0
      },
      "text/plain": [
       "HBox(children=(IntProgress(value=0, description='Epoch 0', max=70000, style=ProgressStyle(description_width='i…"
      ]
     },
     "metadata": {},
     "output_type": "display_data"
    },
    {
     "data": {
      "application/vnd.jupyter.widget-view+json": {
       "model_id": "1488618eac3542e7874549d7b6957ce6",
       "version_major": 2,
       "version_minor": 0
      },
      "text/plain": [
       "HBox(children=(IntProgress(value=0, description='Epoch 1', max=70000, style=ProgressStyle(description_width='i…"
      ]
     },
     "metadata": {},
     "output_type": "display_data"
    },
    {
     "data": {
      "application/vnd.jupyter.widget-view+json": {
       "model_id": "3a249eae10c94b09b95d0721ca375a79",
       "version_major": 2,
       "version_minor": 0
      },
      "text/plain": [
       "HBox(children=(IntProgress(value=0, description='Epoch 2', max=70000, style=ProgressStyle(description_width='i…"
      ]
     },
     "metadata": {},
     "output_type": "display_data"
    },
    {
     "data": {
      "application/vnd.jupyter.widget-view+json": {
       "model_id": "77f2c1a43c4e486c9ac47d3204aa2000",
       "version_major": 2,
       "version_minor": 0
      },
      "text/plain": [
       "HBox(children=(IntProgress(value=0, description='Epoch 3', max=70000, style=ProgressStyle(description_width='i…"
      ]
     },
     "metadata": {},
     "output_type": "display_data"
    },
    {
     "data": {
      "application/vnd.jupyter.widget-view+json": {
       "model_id": "99cbe120d2a8414eb75d995b7f320929",
       "version_major": 2,
       "version_minor": 0
      },
      "text/plain": [
       "HBox(children=(IntProgress(value=0, description='Epoch 4', max=70000, style=ProgressStyle(description_width='i…"
      ]
     },
     "metadata": {},
     "output_type": "display_data"
    },
    {
     "name": "stdout",
     "output_type": "stream",
     "text": [
      "\n",
      "Saving the model... done, 1.77 seconds.\n"
     ]
    }
   ],
   "source": [
    "# Train the model\n",
    "model.train(epochs=5)"
   ]
  },
  {
   "cell_type": "markdown",
   "metadata": {},
   "source": [
    "### Evaluate the model\n",
    "\n",
    "Evaluation of the final model gives:"
   ]
  },
  {
   "cell_type": "code",
   "execution_count": 6,
   "metadata": {},
   "outputs": [
    {
     "name": "stdout",
     "output_type": "stream",
     "text": [
      "Predicting... done, 4.27 seconds.\n",
      "Accuracy network 1:  0.988\n"
     ]
    }
   ],
   "source": [
    "model.evaluate_1();"
   ]
  },
  {
   "cell_type": "markdown",
   "metadata": {},
   "source": [
    "### Visualize predictions\n",
    "\n",
    "Next, I will create a short script to visualize the last softmax layer of the model, this to see how 'strongly' the model reacts to the corresponding input."
   ]
  },
  {
   "cell_type": "code",
   "execution_count": 7,
   "metadata": {},
   "outputs": [
    {
     "name": "stdout",
     "output_type": "stream",
     "text": [
      "Input:\n"
     ]
    },
    {
     "data": {
      "image/png": "[encoded data removed]",
      "text/plain": [
       "<Figure size 216x216 with 1 Axes>"
      ]
     },
     "metadata": {
      "needs_background": "light"
     },
     "output_type": "display_data"
    },
    {
     "name": "stdout",
     "output_type": "stream",
     "text": [
      "SoftMax activation layer:\n"
     ]
    },
    {
     "data": {
      "image/png": "[encoded data removed]",
      "text/plain": [
       "<Figure size 432x216 with 2 Axes>"
      ]
     },
     "metadata": {
      "needs_background": "light"
     },
     "output_type": "display_data"
    }
   ],
   "source": [
    "model.visualize_prediction_1(index=0)"
   ]
  },
  {
   "cell_type": "markdown",
   "metadata": {},
   "source": [
    "## Problem 2 - identify odd numbers\n",
    "\n",
    "For the second problem, the problem we're interested in, we want to identify odd numbers. First, to make sure all the trained knowledge from our first network remains as is, we will freeze those layers. This is already incoroprated into the script (see in `transfer_learner.py` the method `create_model_two`). An additional bottom layer which represents the output predictor of the binary classification problem is added as well."
   ]
  },
  {
   "cell_type": "code",
   "execution_count": 8,
   "metadata": {},
   "outputs": [
    {
     "name": "stdout",
     "output_type": "stream",
     "text": [
      "_________________________________________________________________\n",
      "Layer (type)                 Output Shape              Param #   \n",
      "=================================================================\n",
      "input (InputLayer)           (None, None, None, 3)     0         \n",
      "_________________________________________________________________\n",
      "conv1_layer1 (Conv2D)        (None, None, None, 16)    448       \n",
      "_________________________________________________________________\n",
      "conv2_layer1 (Conv2D)        (None, None, None, 16)    2320      \n",
      "_________________________________________________________________\n",
      "conv3_layer1 (Conv2D)        (None, None, None, 16)    2320      \n",
      "_________________________________________________________________\n",
      "max_pool (MaxPooling2D)      (None, None, None, 16)    0         \n",
      "_________________________________________________________________\n",
      "conv1_layer2 (Conv2D)        (None, None, None, 32)    4640      \n",
      "_________________________________________________________________\n",
      "conv2_layer2 (Conv2D)        (None, None, None, 32)    9248      \n",
      "_________________________________________________________________\n",
      "conv3_layer2 (Conv2D)        (None, None, None, 32)    9248      \n",
      "_________________________________________________________________\n",
      "global_max_pool (GlobalMaxPo (None, 32)                0         \n",
      "_________________________________________________________________\n",
      "dense (Dense)                (None, 128)               4224      \n",
      "_________________________________________________________________\n",
      "out (Dense)                  (None, 10)                1290      \n",
      "_________________________________________________________________\n",
      "output (Dense)               (None, 1)                 11        \n",
      "=================================================================\n",
      "Total params: 33,749\n",
      "Trainable params: 11\n",
      "Non-trainable params: 33,738\n",
      "_________________________________________________________________\n"
     ]
    }
   ],
   "source": [
    "model.create_model_two()"
   ]
  },
  {
   "cell_type": "markdown",
   "metadata": {},
   "source": [
    "As can be seen, only the last weights are trainable (\"`Trainable params: 129`\" coincide perfectly with the number of parameters in the last layer, which are 128 connection weights and one bias weight). All the other parameters are frozen and thus non-trainable."
   ]
  },
  {
   "cell_type": "code",
   "execution_count": 9,
   "metadata": {},
   "outputs": [
    {
     "name": "stdout",
     "output_type": "stream",
     "text": [
      "transfer_learner_mnist_v00 - Parameters\n",
      "\tcurrent_epoch : 0\n",
      "\t    is_frozen : True\n",
      "\t    network_1 : <keras.engine.training.Model object at 0x000001D5AB041DD8>\n",
      "\t    network_2 : <keras.engine.training.Model object at 0x000001D5AB292400>\n",
      "\t       shared : <keras.engine.training.Model object at 0x000001D5AB041630>\n",
      "\n"
     ]
    }
   ],
   "source": [
    "model.print_stats()"
   ]
  },
  {
   "cell_type": "markdown",
   "metadata": {},
   "source": [
    "## Problem 2 - manually train\n",
    "\n",
    "Manually train the second model. This will happen in two phases:\n",
    "1. First initialize the training set with a couple of training samples, a small batch of 32 samples will be manually curated before the model will learn\n",
    "2. After every newly curated sample, the model will re-train. A plot of the sample distribution (number of samples the model predicts that are odd, and the number of samples the model predicts are even) will be given as well. Note that to evaluate the model properly, I've introduced a 'mapping' function, which functions as our evaluation ground truth."
   ]
  },
  {
   "cell_type": "markdown",
   "metadata": {},
   "source": [
    "### Initialize training\n",
    "\n",
    "Manually curate 32 randomly sampled images."
   ]
  },
  {
   "cell_type": "code",
   "execution_count": 10,
   "metadata": {},
   "outputs": [
    {
     "name": "stdout",
     "output_type": "stream",
     "text": [
      "Predicting... done, 4.51 seconds.\n",
      "Accuracy network 2:  0.498\n"
     ]
    },
    {
     "data": {
      "image/png": "[encoded data removed]",
      "text/plain": [
       "<Figure size 360x216 with 1 Axes>"
      ]
     },
     "metadata": {
      "needs_background": "light"
     },
     "output_type": "display_data"
    }
   ],
   "source": [
    "# Initial distribution\n",
    "model.visualize_distribution()"
   ]
  },
  {
   "cell_type": "code",
   "execution_count": 12,
   "metadata": {},
   "outputs": [
    {
     "name": "stderr",
     "output_type": "stream",
     "text": [
      "100%|██████████████████████████████████████████████████████████████████████████████████████████████████████████████████████████████████████████████████████████████████████████████| 4/4 [00:11<00:00,  3.14s/it]\n"
     ]
    },
    {
     "data": {
      "application/vnd.jupyter.widget-view+json": {
       "model_id": "88dec46ea48d41258548c31f6c05c73c",
       "version_major": 2,
       "version_minor": 0
      },
      "text/plain": [
       "HBox(children=(IntProgress(value=0, description='Training', max=1, style=ProgressStyle(description_width='init…"
      ]
     },
     "metadata": {},
     "output_type": "display_data"
    },
    {
     "data": {
      "application/vnd.jupyter.widget-view+json": {
       "model_id": "928538538d1c4fe19138d31acaa1058c",
       "version_major": 2,
       "version_minor": 0
      },
      "text/plain": [
       "HBox(children=(IntProgress(value=0, description='Epoch 0', max=4, style=ProgressStyle(description_width='initi…"
      ]
     },
     "metadata": {},
     "output_type": "display_data"
    },
    {
     "name": "stdout",
     "output_type": "stream",
     "text": [
      "\n",
      "Saving the model... done, 1.79 seconds.\n",
      "Predicting... done, 4.24 seconds.\n",
      "Accuracy network 2:  0.396\n"
     ]
    },
    {
     "data": {
      "image/png": "[encoded data removed]",
      "text/plain": [
       "<Figure size 360x216 with 1 Axes>"
      ]
     },
     "metadata": {
      "needs_background": "light"
     },
     "output_type": "display_data"
    },
    {
     "name": "stdout",
     "output_type": "stream",
     "text": [
      "Continue?n\n"
     ]
    }
   ],
   "source": [
    "c = True\n",
    "while c:\n",
    "    model.curate_batch()\n",
    "    model.train()\n",
    "    model.visualize_distribution()\n",
    "    c = input(\"Continue?\")\n",
    "    c = True if (c in ['yes', 'y', 'true', 'True']) else False"
   ]
  },
  {
   "cell_type": "markdown",
   "metadata": {},
   "source": [
    "### Visualize predictions"
   ]
  },
  {
   "cell_type": "code",
   "execution_count": 11,
   "metadata": {},
   "outputs": [
    {
     "name": "stdout",
     "output_type": "stream",
     "text": [
      "Input:\n"
     ]
    },
    {
     "data": {
      "image/png": "[encoded data removed]",
      "text/plain": [
       "<Figure size 216x216 with 1 Axes>"
      ]
     },
     "metadata": {
      "needs_background": "light"
     },
     "output_type": "display_data"
    },
    {
     "name": "stdout",
     "output_type": "stream",
     "text": [
      "SoftMax activation layer:\n"
     ]
    },
    {
     "data": {
      "image/png": "[encoded data removed]",
      "text/plain": [
       "<Figure size 432x216 with 2 Axes>"
      ]
     },
     "metadata": {
      "needs_background": "light"
     },
     "output_type": "display_data"
    },
    {
     "name": "stdout",
     "output_type": "stream",
     "text": [
      "Connection weights between last two layers:\n"
     ]
    },
    {
     "data": {
      "image/png": "[encoded data removed]",
      "text/plain": [
       "<Figure size 432x216 with 2 Axes>"
      ]
     },
     "metadata": {
      "needs_background": "light"
     },
     "output_type": "display_data"
    },
    {
     "name": "stdout",
     "output_type": "stream",
     "text": [
      "Sigmoid activation: value=0.41\n"
     ]
    },
    {
     "data": {
      "image/png": "[encoded data removed]",
      "text/plain": [
       "<Figure size 72x72 with 2 Axes>"
      ]
     },
     "metadata": {
      "needs_background": "light"
     },
     "output_type": "display_data"
    }
   ],
   "source": [
    "model.visualize_prediction_2(index=0)"
   ]
  },
  {
   "cell_type": "markdown",
   "metadata": {},
   "source": [
    "### Model's final performance on the second problem\n",
    "\n",
    "Curate one sample at a time, and after each new addition to the training set, the model is re-evaluated."
   ]
  },
  {
   "cell_type": "code",
   "execution_count": 14,
   "metadata": {},
   "outputs": [
    {
     "name": "stdout",
     "output_type": "stream",
     "text": [
      "Predicting... done, 4.49 seconds.\n",
      "Accuracy network 2:  0.396\n"
     ]
    },
    {
     "data": {
      "image/png": "[encoded data removed]",
      "text/plain": [
       "<Figure size 360x216 with 1 Axes>"
      ]
     },
     "metadata": {
      "needs_background": "light"
     },
     "output_type": "display_data"
    }
   ],
   "source": [
    "model.visualize_distribution()"
   ]
  },
  {
   "cell_type": "code",
   "execution_count": 11,
   "metadata": {},
   "outputs": [
    {
     "name": "stdout",
     "output_type": "stream",
     "text": [
      "Predicting... done, 4.55 seconds.\n",
      "Accuracy network 2:  0.498\n"
     ]
    },
    {
     "data": {
      "image/png": "[encoded data removed]",
      "text/plain": [
       "<Figure size 432x288 with 3 Axes>"
      ]
     },
     "metadata": {
      "needs_background": "light"
     },
     "output_type": "display_data"
    }
   ],
   "source": [
    "from images.create_gif import create_image_model_state\n",
    "create_image_model_state(model)"
   ]
  },
  {
   "cell_type": "code",
   "execution_count": null,
   "metadata": {},
   "outputs": [
    {
     "name": "stderr",
     "output_type": "stream",
     "text": [
      "\n",
      "100%|██████████████████████████████████████████████████████████████████████████████████████████████████████████████████████████████████████████████████████████████████████████████| 4/4 [00:08<00:00,  2.19s/it]"
     ]
    },
    {
     "data": {
      "application/vnd.jupyter.widget-view+json": {
       "model_id": "230d915e118740ac852ae27b57e5f295",
       "version_major": 2,
       "version_minor": 0
      },
      "text/plain": [
       "HBox(children=(IntProgress(value=0, description='Training', max=1, style=ProgressStyle(description_width='init…"
      ]
     },
     "metadata": {},
     "output_type": "display_data"
    },
    {
     "data": {
      "application/vnd.jupyter.widget-view+json": {
       "model_id": "b3bbc5797dcd42418cdcb582a5ca012e",
       "version_major": 2,
       "version_minor": 0
      },
      "text/plain": [
       "HBox(children=(IntProgress(value=0, description='Epoch 0', max=76, style=ProgressStyle(description_width='init…"
      ]
     },
     "metadata": {},
     "output_type": "display_data"
    },
    {
     "name": "stdout",
     "output_type": "stream",
     "text": [
      "\n",
      "Saving the model... done, 1.72 seconds.\n",
      "Predicting..."
     ]
    }
   ],
   "source": [
    "while True:\n",
    "    model.curate_batch()\n",
    "    model.train()\n",
    "    create_image_model_state(model)"
   ]
  },
  {
   "cell_type": "code",
   "execution_count": null,
   "metadata": {},
   "outputs": [],
   "source": []
  }
 ],
 "metadata": {
  "hide_input": false,
  "kernelspec": {
   "display_name": "Python 3",
   "language": "python",
   "name": "python3"
  },
  "language_info": {
   "codemirror_mode": {
    "name": "ipython",
    "version": 3
   },
   "file_extension": ".py",
   "mimetype": "text/x-python",
   "name": "python",
   "nbconvert_exporter": "python",
   "pygments_lexer": "ipython3",
   "version": "3.6.8"
  },
  "toc": {
   "base_numbering": 1,
   "nav_menu": {},
   "number_sections": true,
   "sideBar": true,
   "skip_h1_title": false,
   "title_cell": "Table of Contents",
   "title_sidebar": "Contents",
   "toc_cell": false,
   "toc_position": {},
   "toc_section_display": true,
   "toc_window_display": true
  }
 },
 "nbformat": 4,
 "nbformat_minor": 1
}
