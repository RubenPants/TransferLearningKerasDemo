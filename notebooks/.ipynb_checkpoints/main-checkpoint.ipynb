{
 "cells": [
  {
   "cell_type": "code",
   "execution_count": 1,
   "metadata": {
    "hide_input": true
   },
   "outputs": [
    {
     "name": "stderr",
     "output_type": "stream",
     "text": [
      "Using TensorFlow backend.\n"
     ]
    }
   ],
   "source": [
    "# Set path to root and hide warnings\n",
    "from setup import init_notebook\n",
    "init_notebook()"
   ]
  },
  {
   "cell_type": "markdown",
   "metadata": {},
   "source": [
    "# MNIST - Transfer Learning Demo\n",
    "\n",
    "In this tutorial, I will go step by step in the 'Transfer Learning' process. Briefly, the steps are:\n",
    "1. Create a new network suitable for the first problem\n",
    "2. Train the network on the labeled dataset for the first problem\n",
    "3. Freeze the first network and update the last layers of `network_1` such that these fit `network_2`, in this example I frooze all the layers of `network_1` but it is definitely not obligated to do so\n",
    "4. Train the second network based on manually curated samples (or a much smaller dataset)"
   ]
  },
  {
   "cell_type": "markdown",
   "metadata": {},
   "source": [
    "## Create the Model\n",
    "\n",
    "We first create `network_1`, which consists out of convolutional layers intertwined with maxpool layers, followed by two fully connected layers with the last of those two containing a softmax activation layer since our first problem is a categorization problem. The main goal of this first network is to categorize the handwritten digits (input images) into ten different classes, each representing another index (0..9)."
   ]
  },
  {
   "cell_type": "code",
   "execution_count": 2,
   "metadata": {
    "hide_input": true
   },
   "outputs": [],
   "source": [
    "%%capture\n",
    "\n",
    "from transfer_learner import TransferLearner\n",
    "\n",
    "model = TransferLearner(\n",
    "    name='mnist',\n",
    "    data_path='data/mnist/'\n",
    ")"
   ]
  },
  {
   "cell_type": "code",
   "execution_count": 3,
   "metadata": {},
   "outputs": [
    {
     "name": "stdout",
     "output_type": "stream",
     "text": [
      "_________________________________________________________________\n",
      "Layer (type)                 Output Shape              Param #   \n",
      "=================================================================\n",
      "input (InputLayer)           (None, None, None, 3)     0         \n",
      "_________________________________________________________________\n",
      "conv1_layer1 (Conv2D)        (None, None, None, 16)    448       \n",
      "_________________________________________________________________\n",
      "conv2_layer1 (Conv2D)        (None, None, None, 16)    2320      \n",
      "_________________________________________________________________\n",
      "conv3_layer1 (Conv2D)        (None, None, None, 16)    2320      \n",
      "_________________________________________________________________\n",
      "max_pool (MaxPooling2D)      (None, None, None, 16)    0         \n",
      "_________________________________________________________________\n",
      "conv1_layer2 (Conv2D)        (None, None, None, 32)    4640      \n",
      "_________________________________________________________________\n",
      "conv2_layer2 (Conv2D)        (None, None, None, 32)    9248      \n",
      "_________________________________________________________________\n",
      "conv3_layer2 (Conv2D)        (None, None, None, 32)    9248      \n",
      "_________________________________________________________________\n",
      "global_max_pool (GlobalMaxPo (None, 32)                0         \n",
      "_________________________________________________________________\n",
      "dense (Dense)                (None, 128)               4224      \n",
      "_________________________________________________________________\n",
      "out (Dense)                  (None, 10)                1290      \n",
      "=================================================================\n",
      "Total params: 33,738\n",
      "Trainable params: 33,738\n",
      "Non-trainable params: 0\n",
      "_________________________________________________________________\n"
     ]
    }
   ],
   "source": [
    "model.network_1.summary()"
   ]
  },
  {
   "cell_type": "code",
   "execution_count": 4,
   "metadata": {
    "hide_input": true
   },
   "outputs": [
    {
     "name": "stdout",
     "output_type": "stream",
     "text": [
      "transfer_learner_mnist_v00 - Parameters\n",
      "\tcurrent_epoch : 0\n",
      "\t    is_frozen : False\n",
      "\t    network_1 : <keras.engine.training.Model object at 0x000002D7AE7B1B00>\n",
      "\t    network_2 : None\n",
      "\t       shared : <keras.engine.training.Model object at 0x000002D7AE7B15C0>\n",
      "\n"
     ]
    }
   ],
   "source": [
    "# Current stats of the model\n",
    "model.print_stats()"
   ]
  },
  {
   "cell_type": "markdown",
   "metadata": {},
   "source": [
    "## Problem 1 - classify images\n",
    "\n",
    "In a first stage, we will train `network_1` such that the layers are tuned well to work with the handwritten digits. \n",
    "\n",
    "\n",
    "### Train the model\n",
    "\n",
    "For our problem, 5 epochs of training will be sufficient, as can be seen by the training accuracy."
   ]
  },
  {
   "cell_type": "code",
   "execution_count": 5,
   "metadata": {},
   "outputs": [
    {
     "name": "stderr",
     "output_type": "stream",
     "text": [
      "W0919 23:01:56.892623 22644 deprecation.py:323] From c:\\users\\ruben\\appdata\\local\\programs\\python\\python36\\lib\\site-packages\\tensorflow\\python\\ops\\math_grad.py:1250: add_dispatch_support.<locals>.wrapper (from tensorflow.python.ops.array_ops) is deprecated and will be removed in a future version.\n",
      "Instructions for updating:\n",
      "Use tf.where in 2.0, which has the same broadcast rule as np.where\n"
     ]
    },
    {
     "data": {
      "application/vnd.jupyter.widget-view+json": {
       "model_id": "e242cc724e4d466288101c09deb37f2a",
       "version_major": 2,
       "version_minor": 0
      },
      "text/plain": [
       "HBox(children=(IntProgress(value=0, description='Training', max=5, style=ProgressStyle(description_width='init…"
      ]
     },
     "metadata": {},
     "output_type": "display_data"
    },
    {
     "data": {
      "application/vnd.jupyter.widget-view+json": {
       "model_id": "67b8a94fdad74eaba3ac0a0429138620",
       "version_major": 2,
       "version_minor": 0
      },
      "text/plain": [
       "HBox(children=(IntProgress(value=0, description='Epoch 0', max=70000, style=ProgressStyle(description_width='i…"
      ]
     },
     "metadata": {},
     "output_type": "display_data"
    },
    {
     "data": {
      "application/vnd.jupyter.widget-view+json": {
       "model_id": "001648d5295b47cbae49124fa52fe1ce",
       "version_major": 2,
       "version_minor": 0
      },
      "text/plain": [
       "HBox(children=(IntProgress(value=0, description='Epoch 1', max=70000, style=ProgressStyle(description_width='i…"
      ]
     },
     "metadata": {},
     "output_type": "display_data"
    },
    {
     "data": {
      "application/vnd.jupyter.widget-view+json": {
       "model_id": "7d338fe2c31c4000b1536c51e575ee5b",
       "version_major": 2,
       "version_minor": 0
      },
      "text/plain": [
       "HBox(children=(IntProgress(value=0, description='Epoch 2', max=70000, style=ProgressStyle(description_width='i…"
      ]
     },
     "metadata": {},
     "output_type": "display_data"
    },
    {
     "data": {
      "application/vnd.jupyter.widget-view+json": {
       "model_id": "eaf457162d5a4f33981281030337ca0d",
       "version_major": 2,
       "version_minor": 0
      },
      "text/plain": [
       "HBox(children=(IntProgress(value=0, description='Epoch 3', max=70000, style=ProgressStyle(description_width='i…"
      ]
     },
     "metadata": {},
     "output_type": "display_data"
    },
    {
     "data": {
      "application/vnd.jupyter.widget-view+json": {
       "model_id": "79b14330b64e4b0182f9f902625410d5",
       "version_major": 2,
       "version_minor": 0
      },
      "text/plain": [
       "HBox(children=(IntProgress(value=0, description='Epoch 4', max=70000, style=ProgressStyle(description_width='i…"
      ]
     },
     "metadata": {},
     "output_type": "display_data"
    },
    {
     "name": "stdout",
     "output_type": "stream",
     "text": [
      "\n",
      "Saving the model... done, 1.6 seconds.\n"
     ]
    }
   ],
   "source": [
    "# Train the model\n",
    "model.train(epochs=5)"
   ]
  },
  {
   "cell_type": "markdown",
   "metadata": {},
   "source": [
    "### Evaluate the model\n",
    "\n",
    "Evaluation of the final model gives a 97.9% accuracy, which is pretty decent I would say! This is very close to a human evaluator since there is a little bit of noise in the data (look around at the data yourself, and you'll see what I mean, a decent amount of the digits are unreadable or very poorly written, what makes it simply a 'guided guess' of what the number could be). "
   ]
  },
  {
   "cell_type": "code",
   "execution_count": 20,
   "metadata": {},
   "outputs": [
    {
     "name": "stdout",
     "output_type": "stream",
     "text": [
      "Predicting... done, 3.49 seconds.\n",
      "Accuracy network 1:  0.979\n"
     ]
    }
   ],
   "source": [
    "model.evaluate_1();"
   ]
  },
  {
   "cell_type": "markdown",
   "metadata": {},
   "source": [
    "### Visualize predictions\n",
    "\n",
    "A visualization using the first network for one single sample is given by `visualize_prediction_1`. You can play around with it by changing the evaluation index (`index=...`)."
   ]
  },
  {
   "cell_type": "code",
   "execution_count": 7,
   "metadata": {},
   "outputs": [
    {
     "name": "stdout",
     "output_type": "stream",
     "text": [
      "Input:\n"
     ]
    },
    {
     "data": {
      "image/png": "[encoded data removed]",
      "text/plain": [
       "<Figure size 216x216 with 1 Axes>"
      ]
     },
     "metadata": {
      "needs_background": "light"
     },
     "output_type": "display_data"
    },
    {
     "name": "stdout",
     "output_type": "stream",
     "text": [
      "SoftMax activation layer:\n"
     ]
    },
    {
     "data": {
      "image/png": "[encoded data removed]",
      "text/plain": [
       "<Figure size 432x216 with 2 Axes>"
      ]
     },
     "metadata": {
      "needs_background": "light"
     },
     "output_type": "display_data"
    }
   ],
   "source": [
    "model.visualize_prediction_1(index=0)"
   ]
  },
  {
   "cell_type": "markdown",
   "metadata": {},
   "source": [
    " "
   ]
  },
  {
   "cell_type": "markdown",
   "metadata": {},
   "source": [
    "## Problem 2 - identify odd numbers\n",
    "\n",
    "For the second problem (the problem we're interested in) we want to identify odd numbers. At the time, we already have a network that is pretty good in categorizing the handwritten digits to their representable digit. To be sure all this pre-trained knowledge remains, we will freeze the first model's layers. Note that it is possible to only freeze a subset of the layers, but be always sure that you freeze ALL first layers untill some point. It is of no use to freeze intermediate layers when the first layers can update their weights, as discussed in the README file (see root).\n",
    "\n",
    "The freezing of the layers is already incorporated in the method that creates the second model (go the the file `transfer_learner.py` and search for the method `create_model_two`). An additional bottom layer which represents the output predictor of the binary classification problem is added as well."
   ]
  },
  {
   "cell_type": "code",
   "execution_count": 8,
   "metadata": {},
   "outputs": [
    {
     "name": "stdout",
     "output_type": "stream",
     "text": [
      "_________________________________________________________________\n",
      "Layer (type)                 Output Shape              Param #   \n",
      "=================================================================\n",
      "input (InputLayer)           (None, None, None, 3)     0         \n",
      "_________________________________________________________________\n",
      "conv1_layer1 (Conv2D)        (None, None, None, 16)    448       \n",
      "_________________________________________________________________\n",
      "conv2_layer1 (Conv2D)        (None, None, None, 16)    2320      \n",
      "_________________________________________________________________\n",
      "conv3_layer1 (Conv2D)        (None, None, None, 16)    2320      \n",
      "_________________________________________________________________\n",
      "max_pool (MaxPooling2D)      (None, None, None, 16)    0         \n",
      "_________________________________________________________________\n",
      "conv1_layer2 (Conv2D)        (None, None, None, 32)    4640      \n",
      "_________________________________________________________________\n",
      "conv2_layer2 (Conv2D)        (None, None, None, 32)    9248      \n",
      "_________________________________________________________________\n",
      "conv3_layer2 (Conv2D)        (None, None, None, 32)    9248      \n",
      "_________________________________________________________________\n",
      "global_max_pool (GlobalMaxPo (None, 32)                0         \n",
      "_________________________________________________________________\n",
      "dense (Dense)                (None, 128)               4224      \n",
      "_________________________________________________________________\n",
      "out (Dense)                  (None, 10)                1290      \n",
      "_________________________________________________________________\n",
      "output (Dense)               (None, 1)                 11        \n",
      "=================================================================\n",
      "Total params: 33,749\n",
      "Trainable params: 11\n",
      "Non-trainable params: 33,738\n",
      "_________________________________________________________________\n"
     ]
    }
   ],
   "source": [
    "model.create_model_two()"
   ]
  },
  {
   "cell_type": "markdown",
   "metadata": {},
   "source": [
    "As can be seen, only the last weights are trainable (\"`Trainable params: 11`\" which coincide perfectly with the number of parameters in the last layer, which are 11 connection weights and 1 bias weight). All the other parameters are frozen and thus non-trainable."
   ]
  },
  {
   "cell_type": "code",
   "execution_count": 9,
   "metadata": {},
   "outputs": [
    {
     "name": "stdout",
     "output_type": "stream",
     "text": [
      "transfer_learner_mnist_v00 - Parameters\n",
      "\tcurrent_epoch : 0\n",
      "\t    is_frozen : True\n",
      "\t    network_1 : <keras.engine.training.Model object at 0x000002D7AE7B1B00>\n",
      "\t    network_2 : <keras.engine.training.Model object at 0x000002D7D57E2D68>\n",
      "\t       shared : <keras.engine.training.Model object at 0x000002D7AE7B15C0>\n",
      "\n"
     ]
    }
   ],
   "source": [
    "model.print_stats()"
   ]
  },
  {
   "cell_type": "markdown",
   "metadata": {},
   "source": [
    "## Problem 2 - manually train\n",
    "\n",
    "To train the second model we consider the scenario where we have to curate the sample manually. First we will visualize the current (untrained) state of the model, and then go step by step in batches of four for each training interval. Note that in real life (i.e. when not performed in a walk-through tutorial) it is way more efficient to curate a larger set of samples first, but for the sake of the tutorial I want to show you how the model updates after only a few curated samples, that's why I choose for the extremely small batch size of 4. "
   ]
  },
  {
   "cell_type": "markdown",
   "metadata": {},
   "source": [
    "### Initial sample distribution\n",
    "\n",
    "The following plot displays the distribution of samples across their predicted probability to being 'odd'. We know that our input-dataset is homogeneous distributed, meaning that roughly every number occurs as often as another does. Knowing this, we should get evenly distributions at the zero-side (even) as at the one-side (odd), this is our target distribution."
   ]
  },
  {
   "cell_type": "code",
   "execution_count": 10,
   "metadata": {},
   "outputs": [
    {
     "name": "stdout",
     "output_type": "stream",
     "text": [
      "Predicting... done, 4.51 seconds.\n",
      "Accuracy network 2:  0.498\n"
     ]
    },
    {
     "data": {
      "image/png": "[encoded data removed]",
      "text/plain": [
       "<Figure size 360x216 with 1 Axes>"
      ]
     },
     "metadata": {
      "needs_background": "light"
     },
     "output_type": "display_data"
    }
   ],
   "source": [
    "# Initial distribution\n",
    "model.visualize_distribution()"
   ]
  },
  {
   "cell_type": "markdown",
   "metadata": {},
   "source": [
    "### Manually curate samples\n",
    "\n",
    "Next, we curate batches of four samples following by a training of the model over one epoch. After each epoch, I show how the target distribution updated, as well as a rough visualization of the connection weights between the classification layer and the binary predicting layer (the last layer). The latter visualization is stored automatically in the 'images' subfolder such that you can examine this afterwards."
   ]
  },
  {
   "cell_type": "code",
   "execution_count": 17,
   "metadata": {
    "hide_input": true
   },
   "outputs": [],
   "source": [
    "from images.create_gif import create_image_model_state\n",
    "\n",
    "c = True\n",
    "while c:\n",
    "    model.curate_batch()\n",
    "    model.train()\n",
    "    create_image_model_state(model)\n",
    "    c = input(\"Continue?\")\n",
    "    c = True if (c in ['yes', 'y', 'true', 'True']) else False"
   ]
  },
  {
   "cell_type": "markdown",
   "metadata": {},
   "source": [
    "### Visualize predictions\n",
    "\n",
    "At last, a same visualization as for the first network is given. The only change is that in here, also the connection weights are visualized and the last layer (sigmoid activation layer) is given as well."
   ]
  },
  {
   "cell_type": "code",
   "execution_count": 18,
   "metadata": {},
   "outputs": [
    {
     "name": "stdout",
     "output_type": "stream",
     "text": [
      "Input:\n"
     ]
    },
    {
     "data": {
      "image/png": "[encoded data removed]",
      "text/plain": [
       "<Figure size 216x216 with 1 Axes>"
      ]
     },
     "metadata": {
      "needs_background": "light"
     },
     "output_type": "display_data"
    },
    {
     "name": "stdout",
     "output_type": "stream",
     "text": [
      "SoftMax activation layer:\n"
     ]
    },
    {
     "data": {
      "image/png": "[encoded data removed]",
      "text/plain": [
       "<Figure size 432x216 with 2 Axes>"
      ]
     },
     "metadata": {
      "needs_background": "light"
     },
     "output_type": "display_data"
    },
    {
     "name": "stdout",
     "output_type": "stream",
     "text": [
      "Connection weights between last two layers:\n"
     ]
    },
    {
     "data": {
      "image/png": "[encoded data removed]",
      "text/plain": [
       "<Figure size 432x216 with 2 Axes>"
      ]
     },
     "metadata": {
      "needs_background": "light"
     },
     "output_type": "display_data"
    },
    {
     "name": "stdout",
     "output_type": "stream",
     "text": [
      "Sigmoid activation: value=0.94\n"
     ]
    },
    {
     "data": {
      "image/png": "[encoded data removed]",
      "text/plain": [
       "<Figure size 72x72 with 2 Axes>"
      ]
     },
     "metadata": {
      "needs_background": "light"
     },
     "output_type": "display_data"
    }
   ],
   "source": [
    "model.visualize_prediction_2(index=0)"
   ]
  },
  {
   "cell_type": "markdown",
   "metadata": {},
   "source": [
    "### The final result\n",
    "\n",
    "The final state, after only 120 manually curated samples (which is only 0.17% of all the samples!) is shown below. The model obtains an accuracy of 98.6%, which is remarkably better than the performance on the classification task. The only reason for this is because in the second problem, there is less room for error (i.e. if it predicts that a number is 7 but the target label is actually 1, then both are still odd numbers)."
   ]
  },
  {
   "cell_type": "code",
   "execution_count": 21,
   "metadata": {},
   "outputs": [
    {
     "name": "stdout",
     "output_type": "stream",
     "text": [
      "Predicting... done, 3.69 seconds.\n",
      "Accuracy network 2:  0.986\n"
     ]
    },
    {
     "data": {
      "image/png": "[encoded data removed]",
      "text/plain": [
       "<Figure size 432x288 with 3 Axes>"
      ]
     },
     "metadata": {
      "needs_background": "light"
     },
     "output_type": "display_data"
    }
   ],
   "source": [
    "create_image_model_state(model)"
   ]
  }
 ],
 "metadata": {
  "hide_input": false,
  "kernelspec": {
   "display_name": "Python 3",
   "language": "python",
   "name": "python3"
  },
  "language_info": {
   "codemirror_mode": {
    "name": "ipython",
    "version": 3
   },
   "file_extension": ".py",
   "mimetype": "text/x-python",
   "name": "python",
   "nbconvert_exporter": "python",
   "pygments_lexer": "ipython3",
   "version": "3.6.8"
  },
  "toc": {
   "base_numbering": 1,
   "nav_menu": {},
   "number_sections": true,
   "sideBar": true,
   "skip_h1_title": false,
   "title_cell": "Table of Contents",
   "title_sidebar": "Contents",
   "toc_cell": false,
   "toc_position": {},
   "toc_section_display": true,
   "toc_window_display": true
  }
 },
 "nbformat": 4,
 "nbformat_minor": 1
}
