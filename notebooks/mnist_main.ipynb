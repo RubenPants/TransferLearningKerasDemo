{
 "cells": [
  {
   "cell_type": "code",
   "execution_count": null,
   "metadata": {},
   "outputs": [],
   "source": [
    "from init import init_notebook\n",
    "\n",
    "init_notebook()\n",
    "\n",
    "# Other imports\n",
    "import config\n",
    "import numpy as np\n",
    "\n",
    "from IPython.display import clear_output\n",
    "from myutils import load_json, store_json, load_pickle, store_pickle, print_all_stats\n",
    "from tqdm import tqdm"
   ]
  },
  {
   "cell_type": "markdown",
   "metadata": {},
   "source": [
    "# MNIST - Sentiment Learning Demo\n",
    "\n",
    "In this demo, we see the 'Sentiment Learner' as a strictly defined rule: even vs odd numbers. We define zero (False) as even, and one (True) as odd."
   ]
  },
  {
   "cell_type": "markdown",
   "metadata": {},
   "source": [
    "## Create the Model\n",
    "\n",
    "To create the model, we should define a mapping function which maps the ground truth labels corresponding the images (i.e. the indices the images try to represent in this case) to a binary representation. For this demo, I've chosen to train the model to learn to recognize even and odd numbers, based on a (live) manually curated training-set."
   ]
  },
  {
   "cell_type": "code",
   "execution_count": null,
   "metadata": {},
   "outputs": [],
   "source": [
    "def mapping(x):\n",
    "    return x % 2"
   ]
  },
  {
   "cell_type": "code",
   "execution_count": null,
   "metadata": {},
   "outputs": [],
   "source": [
    "%%capture\n",
    "\n",
    "from sentiment_learner import SentimentLearner\n",
    "\n",
    "model = SentimentLearner(\n",
    "    name='mnist',\n",
    "    data_path='data/mnist/',\n",
    "    mapping=mapping\n",
    ")"
   ]
  },
  {
   "cell_type": "markdown",
   "metadata": {},
   "source": [
    "## Init Training Set\n",
    "\n",
    "Manually add a small set of samples before the first training epoch starts, this because otherwise the model would drastically overfit (since only one sample would cover only one possible answer, which results in a model that thinks that this answer is always gonna be the right choice). "
   ]
  },
  {
   "cell_type": "code",
   "execution_count": null,
   "metadata": {},
   "outputs": [],
   "source": [
    "for _ in range(config.INIT_BATCH):\n",
    "    model.iterate(train=False)"
   ]
  },
  {
   "cell_type": "markdown",
   "metadata": {},
   "source": [
    "## Evaluate and Train Loop\n",
    "\n",
    "\n",
    "Evaluate the model to get the 'most uncertain sample', which will then be used to manually evaluate and next is added to the training set. The idea is to learn a decent data-distribution only after a relatively few manually curated samples.\n",
    "\n",
    "Note: Newly added training data keeps also occurring in the evaluation data, there is no specific reason for this."
   ]
  },
  {
   "cell_type": "code",
   "execution_count": null,
   "metadata": {},
   "outputs": [],
   "source": [
    "while True:\n",
    "    model.iterate()"
   ]
  },
  {
   "cell_type": "code",
   "execution_count": null,
   "metadata": {},
   "outputs": [],
   "source": [
    "model.train_labels.shape"
   ]
  },
  {
   "cell_type": "code",
   "execution_count": null,
   "metadata": {},
   "outputs": [],
   "source": [
    "model.train_images.shape"
   ]
  },
  {
   "cell_type": "code",
   "execution_count": null,
   "metadata": {},
   "outputs": [],
   "source": [
    "model.train_images[1].shape"
   ]
  },
  {
   "cell_type": "code",
   "execution_count": null,
   "metadata": {},
   "outputs": [],
   "source": []
  }
 ],
 "metadata": {
  "hide_input": false,
  "kernelspec": {
   "display_name": "Python 3",
   "language": "python",
   "name": "python3"
  },
  "language_info": {
   "codemirror_mode": {
    "name": "ipython",
    "version": 3
   },
   "file_extension": ".py",
   "mimetype": "text/x-python",
   "name": "python",
   "nbconvert_exporter": "python",
   "pygments_lexer": "ipython3",
   "version": "3.6.8"
  },
  "toc": {
   "base_numbering": 1,
   "nav_menu": {},
   "number_sections": true,
   "sideBar": true,
   "skip_h1_title": false,
   "title_cell": "Table of Contents",
   "title_sidebar": "Contents",
   "toc_cell": false,
   "toc_position": {},
   "toc_section_display": true,
   "toc_window_display": true
  }
 },
 "nbformat": 4,
 "nbformat_minor": 1
}
